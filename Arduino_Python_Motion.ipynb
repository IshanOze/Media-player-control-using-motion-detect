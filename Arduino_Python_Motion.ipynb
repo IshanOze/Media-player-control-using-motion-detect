{
 "cells": [
  {
   "cell_type": "code",
   "execution_count": null,
   "metadata": {},
   "outputs": [],
   "source": [
    "import serial\n",
    "import pyautogui\n",
    "import time\n",
    "\n",
    "\n",
    "ArduinoSerial = serial.Serial('com3', 9600)\n",
    "time.sleep(2)\n",
    "\n",
    "while True:\n",
    "    incoming = str(ArduinoSerial.readline())\n",
    "    print(incoming)\n",
    "    \n",
    "    if 'Play/Pause' in incoming:\n",
    "        pyautogui.press(['space'], interval = 0.2)\n",
    "    \n",
    "    if 'Volume Increased' in incoming:\n",
    "        pyautogui.hotkey('ctrl', 'up')\n",
    "    \n",
    "    if 'Volume Decreased' in incoming:\n",
    "        pyautogui.hotkey('ctrl', 'down')"
   ]
  }
 ],
 "metadata": {
  "kernelspec": {
   "display_name": "Python 3",
   "language": "python",
   "name": "python3"
  },
  "language_info": {
   "codemirror_mode": {
    "name": "ipython",
    "version": 3
   },
   "file_extension": ".py",
   "mimetype": "text/x-python",
   "name": "python",
   "nbconvert_exporter": "python",
   "pygments_lexer": "ipython3",
   "version": "3.8.5"
  }
 },
 "nbformat": 4,
 "nbformat_minor": 4
}
