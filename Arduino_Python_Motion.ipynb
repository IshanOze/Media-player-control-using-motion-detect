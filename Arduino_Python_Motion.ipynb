{
 "cells": [
  {
   "cell_type": "code",
   "execution_count": null,
   "metadata": {},
   "outputs": [],
   "source": [
    "import serial\n",
    "import pyautogui\n",
    "import time\n",
    "\n",
    "\n",
    "ArduinoSerial = serial.Serial('com3', 9600)\n", #Remember that you have to define the COM (usb)port which is connected to the Arduino.In my case it was connected to com3
    "time.sleep(2)\n",
    "\n",
    "while True:\n",
    "    incoming = str(ArduinoSerial.readline())\n", #reads the line which serial monitor is printing and assigns it to the variable 'incoming'
    "    print(incoming)\n",
    "    \n",
    "    if 'Play/Pause' in incoming:\n",
    "        pyautogui.press(['space'], interval = 0.2)\n", #simulates the pressing of Spacebar for 0.2 seconds
    "    \n",
    "    if 'Volume Increased' in incoming:\n",
    "        pyautogui.hotkey('ctrl', 'up')\n", #simulates the pressing of ctrl and up simultaneously
    "    \n",
    "    if 'Volume Decreased' in incoming:\n",
    "        pyautogui.hotkey('ctrl', 'down')" #simulates the pressing of ctrl and down simultaneously
   ]
  }
 ],
 "metadata": {
  "kernelspec": {
   "display_name": "Python 3",
   "language": "python",
   "name": "python3"
  },
  "language_info": {
   "codemirror_mode": {
    "name": "ipython",
    "version": 3
   },
   "file_extension": ".py",
   "mimetype": "text/x-python",
   "name": "python",
   "nbconvert_exporter": "python",
   "pygments_lexer": "ipython3",
   "version": "3.8.5"
  }
 },
 "nbformat": 4,
 "nbformat_minor": 4
}
